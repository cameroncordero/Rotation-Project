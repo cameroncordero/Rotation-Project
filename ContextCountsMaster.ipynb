{
 "cells": [
  {
   "cell_type": "code",
   "execution_count": null,
   "metadata": {},
   "outputs": [],
   "source": [
    "MutationFile = 'Cutaneous_somatic_mutation_MELA_AU_DNVs_sorted_dinuc_filter.bed'\n",
    "FastaFile = 'hg19.fa'\n",
    "OutputFile = 'AC>TT_Mutation_Context_Frequency.csv'\n",
    "\n",
    "from SequenceContext import CreateNewBedFile\n",
    "CreateNewBedFile(1,1,MutationFile,FastaFile)\n",
    "\n",
    "from CompareMutationContext import AttainMutationData\n",
    "AttainMutationData('AC>TT', OutputFile)\n",
    "\n"
   ]
  },
  {
   "cell_type": "code",
   "execution_count": 1,
   "metadata": {},
   "outputs": [
    {
     "name": "stdout",
     "output_type": "stream",
     "text": [
      "\u001b[3mProcessing...\u001b[0m chromosome 1\n",
      "\n",
      "\u001b[3mProcessing...\u001b[0m chromosome 2\n",
      "\n",
      "\u001b[3mProcessing...\u001b[0m chromosome 3\n",
      "\n",
      "\u001b[3mProcessing...\u001b[0m chromosome 4\n",
      "\n",
      "\u001b[3mProcessing...\u001b[0m chromosome 5\n",
      "\n",
      "\u001b[3mProcessing...\u001b[0m chromosome 6\n",
      "\n",
      "\u001b[3mProcessing...\u001b[0m chromosome 7\n",
      "\n",
      "\u001b[3mProcessing...\u001b[0m chromosome 8\n",
      "\n",
      "\u001b[3mProcessing...\u001b[0m chromosome 9\n",
      "\n",
      "\u001b[3mProcessing...\u001b[0m chromosome 10\n",
      "\n",
      "\u001b[3mProcessing...\u001b[0m chromosome 11\n",
      "\n",
      "\u001b[3mProcessing...\u001b[0m chromosome 12\n",
      "\n",
      "\u001b[3mProcessing...\u001b[0m chromosome 13\n",
      "\n",
      "\u001b[3mProcessing...\u001b[0m chromosome 14\n",
      "\n",
      "\u001b[3mProcessing...\u001b[0m chromosome 15\n",
      "\n",
      "\u001b[3mProcessing...\u001b[0m chromosome 16\n",
      "\n",
      "\u001b[3mProcessing...\u001b[0m chromosome 17\n",
      "\n",
      "\u001b[3mProcessing...\u001b[0m chromosome 18\n",
      "\n",
      "\u001b[3mProcessing...\u001b[0m chromosome 19\n",
      "\n",
      "\u001b[3mProcessing...\u001b[0m chromosome 20\n",
      "\n",
      "\u001b[3mProcessing...\u001b[0m chromosome 21\n",
      "\n",
      "\u001b[3mProcessing...\u001b[0m chromosome 22\n",
      "\n",
      "\u001b[3mProcessing...\u001b[0m chromosome X\n",
      "\n",
      "\u001b[3mProcessing...\u001b[0m chromosome Y\n",
      "\n"
     ]
    },
    {
     "ename": "FileNotFoundError",
     "evalue": "[Errno 2] No such file or directory: 'Genomic_Counts_4mer_hg19.fa.csv'",
     "output_type": "error",
     "traceback": [
      "\u001b[0;31m---------------------------------------------------------------------------\u001b[0m",
      "\u001b[0;31mFileNotFoundError\u001b[0m                         Traceback (most recent call last)",
      "\u001b[0;32m/tmp/ipykernel_8560/1958068570.py\u001b[0m in \u001b[0;36m<module>\u001b[0;34m\u001b[0m\n\u001b[1;32m      3\u001b[0m \u001b[0mFastaFile\u001b[0m \u001b[0;34m=\u001b[0m \u001b[0;34m'hg19.fa'\u001b[0m\u001b[0;34m\u001b[0m\u001b[0;34m\u001b[0m\u001b[0m\n\u001b[1;32m      4\u001b[0m \u001b[0;32mfrom\u001b[0m \u001b[0mActuallyNormalizeData\u001b[0m \u001b[0;32mimport\u001b[0m \u001b[0mNormalizeData\u001b[0m\u001b[0;34m\u001b[0m\u001b[0;34m\u001b[0m\u001b[0m\n\u001b[0;32m----> 5\u001b[0;31m \u001b[0mNormalizeData\u001b[0m\u001b[0;34m(\u001b[0m\u001b[0mOutputFile\u001b[0m\u001b[0;34m,\u001b[0m \u001b[0mFastaFile\u001b[0m\u001b[0;34m,\u001b[0m \u001b[0;36m4\u001b[0m\u001b[0;34m)\u001b[0m\u001b[0;34m\u001b[0m\u001b[0;34m\u001b[0m\u001b[0m\n\u001b[0m",
      "\u001b[0;32m/mnt/c/Users/CAM/Documents/WSU/Wyrick Lab/Bioinformatics/Rotation Project/ActuallyNormalizeData.py\u001b[0m in \u001b[0;36mNormalizeData\u001b[0;34m(OutputFile, FastaFile, TotalNucleotidesPerContext, NormalizeToMedian)\u001b[0m\n\u001b[1;32m     32\u001b[0m     \u001b[0;32mif\u001b[0m \u001b[0mNormalizeToMedian\u001b[0m\u001b[0;34m:\u001b[0m\u001b[0;34m\u001b[0m\u001b[0;34m\u001b[0m\u001b[0m\n\u001b[1;32m     33\u001b[0m         \u001b[0;32mwith\u001b[0m \u001b[0mopen\u001b[0m\u001b[0;34m(\u001b[0m\u001b[0mOutputFile\u001b[0m\u001b[0;34m,\u001b[0m \u001b[0;34m'r'\u001b[0m\u001b[0;34m)\u001b[0m \u001b[0;32mas\u001b[0m \u001b[0mmutData\u001b[0m\u001b[0;34m:\u001b[0m\u001b[0;34m\u001b[0m\u001b[0;34m\u001b[0m\u001b[0m\n\u001b[0;32m---> 34\u001b[0;31m             \u001b[0;32mwith\u001b[0m \u001b[0mopen\u001b[0m\u001b[0;34m(\u001b[0m\u001b[0;34m'Genomic_Counts_'\u001b[0m\u001b[0;34m+\u001b[0m\u001b[0mstr\u001b[0m\u001b[0;34m(\u001b[0m\u001b[0mTotalNucleotidesPerContext\u001b[0m\u001b[0;34m)\u001b[0m\u001b[0;34m+\u001b[0m\u001b[0;34m'mer_'\u001b[0m\u001b[0;34m+\u001b[0m\u001b[0mFastaFile\u001b[0m\u001b[0;34m+\u001b[0m\u001b[0;34m'.csv'\u001b[0m\u001b[0;34m,\u001b[0m \u001b[0;34m'r'\u001b[0m\u001b[0;34m)\u001b[0m \u001b[0;32mas\u001b[0m \u001b[0mgData\u001b[0m\u001b[0;34m:\u001b[0m\u001b[0;34m\u001b[0m\u001b[0;34m\u001b[0m\u001b[0m\n\u001b[0m\u001b[1;32m     35\u001b[0m                 \u001b[0;32mwith\u001b[0m \u001b[0mopen\u001b[0m\u001b[0;34m(\u001b[0m\u001b[0;34m'Normalized_'\u001b[0m\u001b[0;34m+\u001b[0m\u001b[0mOutputFile\u001b[0m\u001b[0;34m,\u001b[0m \u001b[0;34m'w'\u001b[0m\u001b[0;34m)\u001b[0m \u001b[0;32mas\u001b[0m \u001b[0mnormData\u001b[0m\u001b[0;34m:\u001b[0m\u001b[0;34m\u001b[0m\u001b[0;34m\u001b[0m\u001b[0m\n\u001b[1;32m     36\u001b[0m                     \u001b[0mmutDataDict\u001b[0m \u001b[0;34m=\u001b[0m \u001b[0;34m{\u001b[0m\u001b[0;34m}\u001b[0m\u001b[0;34m\u001b[0m\u001b[0;34m\u001b[0m\u001b[0m\n",
      "\u001b[0;31mFileNotFoundError\u001b[0m: [Errno 2] No such file or directory: 'Genomic_Counts_4mer_hg19.fa.csv'"
     ]
    }
   ],
   "source": [
    "MutationFile = 'Cutaneous_somatic_mutation_MELA_AU_DNVs_sorted_dinuc_filter.bed'\n",
    "OutputFile = 'AC>TT_Mutation_Context_Frequency.csv'\n",
    "FastaFile = 'hg19.fa'\n",
    "from ActuallyNormalizeData import NormalizeData\n",
    "NormalizeData(OutputFile, FastaFile, 4)\n"
   ]
  },
  {
   "cell_type": "code",
   "execution_count": null,
   "metadata": {},
   "outputs": [],
   "source": [
    "# Bar graphs\n",
    "import seaborn as sns\n",
    "import numpy as np\n",
    "import pandas as pd\n",
    "from matplotlib import pyplot as plt\n",
    "OutputFile = 'AC>TT_Mutation_Context_Frequency.csv'\n",
    "gdata = pd.read_csv('Normalized_'+OutputFile)\n",
    "gdata = gdata.sort_values('normalizedCounts', ascending = False)\n",
    "sns.set_theme(style = 'whitegrid')\n",
    "sns.barplot(y ='sequenceContext', x = 'normalizedCounts', data = gdata,)"
   ]
  },
  {
   "cell_type": "code",
   "execution_count": null,
   "metadata": {},
   "outputs": [],
   "source": [
    "import numpy as np\n",
    "import pandas as pd\n",
    "import scipy\n",
    "import statsmodels.api as sm\n",
    "OutputFile = 'AC>TT_Mutation_Context_Frequency.csv'\n",
    "with open('Linear_Regression_'+OutputFile, 'r') as data:\n",
    "    df = pd.read_csv(data)\n",
    "    countDict = {}\n",
    "    xdf = df.drop(columns=['context','frequency'])\n",
    "    ydf = df.frequency\n",
    "    for column in xdf:\n",
    "        rValue, _ = scipy.stats.pearsonr(xdf[column], df.frequency)\n",
    "        countDict[column] = rValue\n",
    "    i = 0\n",
    "    fivePrimeDict = {}\n",
    "    threePrimeDict = {}\n",
    "    for key, value in countDict.items():\n",
    "        if i < 4:\n",
    "            fivePrimeDict[key] = value\n",
    "            i += 1\n",
    "        else:\n",
    "            threePrimeDict[key] = value\n",
    "    threeDrop = (min(threePrimeDict, key = lambda dictionaryKey: abs(threePrimeDict.get(dictionaryKey))))\n",
    "    fiveDrop = (min(fivePrimeDict, key = lambda dictionaryKey: abs(fivePrimeDict.get(dictionaryKey))))\n",
    "    Adi = df.drop(columns=['context', 'frequency', 'threePrimeA', 'threePrimeT', 'threePrimeC', 'threePrimeG', str(fiveDrop)])\n",
    "    Ezra = df.drop(columns=['context', 'frequency', 'fivePrimeA', 'fivePrimeT', 'fivePrimeC', 'fivePrimeG', str(threeDrop)])\n",
    "    X2 = sm.add_constant(Adi)\n",
    "    est = sm.OLS(ydf,X2).fit()\n",
    "    print(est.summary())\n",
    "    X3 = sm.add_constant(Ezra)\n",
    "    est = sm.OLS(ydf,X3).fit()\n",
    "    print(est.summary())"
   ]
  }
 ],
 "metadata": {
  "interpreter": {
   "hash": "916dbcbb3f70747c44a77c7bcd40155683ae19c65e1c03b4aa3499c5328201f1"
  },
  "kernelspec": {
   "display_name": "Python 3.8.10 64-bit",
   "name": "python3"
  },
  "language_info": {
   "codemirror_mode": {
    "name": "ipython",
    "version": 3
   },
   "file_extension": ".py",
   "mimetype": "text/x-python",
   "name": "python",
   "nbconvert_exporter": "python",
   "pygments_lexer": "ipython3",
   "version": "3.8.10"
  },
  "orig_nbformat": 4
 },
 "nbformat": 4,
 "nbformat_minor": 2
}
