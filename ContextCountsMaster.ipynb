{
 "cells": [
  {
   "cell_type": "code",
   "execution_count": null,
   "metadata": {},
   "outputs": [],
   "source": [
    "MutationFile = 'Cutaneous_somatic_mutation_MELA_AU_DNVs_sorted_dinuc_filter.bed'\n",
    "FastaFile = 'hg19.fa'\n",
    "OutputFile = 'AC>TT_Mutation_Context_Frequency.csv'\n",
    "\n",
    "from SequenceContext import CreateNewBedFile\n",
    "CreateNewBedFile(1,1,MutationFile,FastaFile)\n",
    "\n",
    "from CompareMutationContext import AttainMutationData\n",
    "AttainMutationData('AC>TT', OutputFile)\n",
    "\n"
   ]
  },
  {
   "cell_type": "code",
   "execution_count": null,
   "metadata": {},
   "outputs": [],
   "source": [
    "MutationFile = 'Cutaneous_somatic_mutation_MELA_AU_DNVs_sorted_dinuc_filter.bed'\n",
    "OutputFile = 'AC>TT_Mutation_Context_Frequency.csv'\n",
    "FastaFile = 'hg19.fa'\n",
    "from ActuallyNormalizeData import NormalizeData\n",
    "NormalizeData(OutputFile, FastaFile, 4)\n"
   ]
  },
  {
   "cell_type": "code",
   "execution_count": null,
   "metadata": {},
   "outputs": [],
   "source": [
    "# Bar graphs\n",
    "import seaborn as sns\n",
    "import numpy as np\n",
    "import pandas as pd\n",
    "from matplotlib import pyplot as plt\n",
    "OutputFile = 'AC>TT_Mutation_Context_Frequency.csv'\n",
    "gdata = pd.read_csv('Normalized_'+OutputFile)\n",
    "gdata = gdata.sort_values('normalizedCounts', ascending = False)\n",
    "sns.set_theme(style = 'whitegrid')\n",
    "sns.barplot(y ='sequenceContext', x = 'normalizedCounts', data = gdata, color = 'red')"
   ]
  },
  {
   "cell_type": "code",
   "execution_count": null,
   "metadata": {},
   "outputs": [],
   "source": [
    "OutputFile = 'AC>TT_Mutation_Context_Frequency.csv'\n",
    "from CreateLinearRegressionFile import LinearFile\n",
    "from PearsonR import RegressionAnalysis\n",
    "LinearFile(OutputFile)\n",
    "RegressionAnalysis(OutputFile)"
   ]
  }
 ],
 "metadata": {
  "interpreter": {
   "hash": "916dbcbb3f70747c44a77c7bcd40155683ae19c65e1c03b4aa3499c5328201f1"
  },
  "kernelspec": {
   "display_name": "Python 3.8.10 64-bit",
   "name": "python3"
  },
  "language_info": {
   "codemirror_mode": {
    "name": "ipython",
    "version": 3
   },
   "file_extension": ".py",
   "mimetype": "text/x-python",
   "name": "python",
   "nbconvert_exporter": "python",
   "pygments_lexer": "ipython3",
   "version": "3.8.10"
  },
  "orig_nbformat": 4
 },
 "nbformat": 4,
 "nbformat_minor": 2
}
