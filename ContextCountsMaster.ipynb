{
 "cells": [
  {
   "cell_type": "code",
   "execution_count": 1,
   "metadata": {},
   "outputs": [],
   "source": [
    "MutationFile = 'Cutaneous_somatic_mutation_MELA_AU_DNVs_sorted_dinuc_filter.bed'\n",
    "FastaFile = 'hg19.fa'\n",
    "OutputFile = 'AC>TT_Mutation_Context_Frequency.csv'\n",
    "\n",
    "from SequenceContext import CreateNewBedFile\n",
    "CreateNewBedFile(1,1,MutationFile,FastaFile)\n",
    "\n",
    "from CompareMutationContext import AttainMutationData\n",
    "AttainMutationData('AC>TT', OutputFile)\n",
    "\n"
   ]
  },
  {
   "cell_type": "code",
   "execution_count": null,
   "metadata": {},
   "outputs": [],
   "source": [
    "from ActuallyNormalizeData import NormalizeData\n",
    "NormalizeData(OutputFile, MutationFile, 4)\n"
   ]
  },
  {
   "cell_type": "code",
   "execution_count": null,
   "metadata": {},
   "outputs": [],
   "source": [
    "import seaborn as sns\n",
    "import numpy as np\n",
    "import pandas as pd\n",
    "from matplotlib import pyplot as plt\n",
    "gdata = pd.read_csv(OutputFile, header = None, names= ['Mutation' , 'Frequency'])\n",
    "sns.barplot(x = 'Mutation', y = 'Frequency', data = gdata,)"
   ]
  }
 ],
 "metadata": {
  "interpreter": {
   "hash": "916dbcbb3f70747c44a77c7bcd40155683ae19c65e1c03b4aa3499c5328201f1"
  },
  "kernelspec": {
   "display_name": "Python 3.8.10 64-bit",
   "name": "python3"
  },
  "language_info": {
   "codemirror_mode": {
    "name": "ipython",
    "version": 3
   },
   "file_extension": ".py",
   "mimetype": "text/x-python",
   "name": "python",
   "nbconvert_exporter": "python",
   "pygments_lexer": "ipython3",
   "version": "3.8.10"
  },
  "orig_nbformat": 4
 },
 "nbformat": 4,
 "nbformat_minor": 2
}
