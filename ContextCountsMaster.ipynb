{
 "cells": [
  {
   "cell_type": "code",
   "execution_count": null,
   "metadata": {},
   "outputs": [],
   "source": [
    "MutationFile = 'Cutaneous_somatic_mutation_MELA_AU_DNVs_sorted_dinuc_filter.bed'\n",
    "FastaFile = 'hg19.fa'\n",
    "OutputFile = 'AC>TT_Mutation_Context_Frequency.csv'\n",
    "\n",
    "from SequenceContext import CreateNewBedFile\n",
    "CreateNewBedFile(1,1,MutationFile,FastaFile)\n",
    "\n",
    "from CompareMutationContext import AttainMutationData\n",
    "AttainMutationData('AC>TT', OutputFile)\n",
    "\n"
   ]
  },
  {
   "cell_type": "code",
   "execution_count": null,
   "metadata": {},
   "outputs": [],
   "source": [
    "MutationFile = 'Cutaneous_somatic_mutation_MELA_AU_DNVs_sorted_dinuc_filter.bed'\n",
    "OutputFile = 'AC>TT_Mutation_Context_Frequency.csv'\n",
    "FastaFile = 'hg19.fa'\n",
    "from ActuallyNormalizeData import NormalizeData\n",
    "NormalizeData(OutputFile, FastaFile, 4)\n"
   ]
  },
  {
   "cell_type": "code",
   "execution_count": null,
   "metadata": {},
   "outputs": [],
   "source": [
    "# Bar graphs\n",
    "import seaborn as sns\n",
    "import numpy as np\n",
    "import pandas as pd\n",
    "from matplotlib import pyplot as plt\n",
    "OutputFile = 'AC>TT_Mutation_Context_Frequency.csv'\n",
    "gdata = pd.read_csv('Normalized_'+OutputFile)\n",
    "gdata = gdata.sort_values('normalizedCounts', ascending = False)\n",
    "sns.set_theme(style = 'whitegrid')\n",
    "sns.barplot(y ='sequenceContext', x = 'normalizedCounts', data = gdata,)"
   ]
  },
  {
   "cell_type": "code",
   "execution_count": null,
   "metadata": {},
   "outputs": [],
   "source": [
    "import numpy as np\n",
    "import pandas as pd\n",
    "import scipy\n",
    "import statsmodels.api as sm\n",
    "OutputFile = 'AC>TT_Mutation_Context_Frequency.csv'\n",
    "with open('Linear_Regression_'+OutputFile, 'r') as data:\n",
    "    df = pd.read_csv(data)\n",
    "    countDict = {}\n",
    "    xdf = df.drop(columns=['context','frequency'])\n",
    "    ydf = df.frequency\n",
    "    for column in xdf:\n",
    "        rValue, _ = scipy.stats.pearsonr(xdf[column], df.frequency)\n",
    "        countDict[column] = rValue\n",
    "    i = 0\n",
    "    fivePrimeDict = {}\n",
    "    threePrimeDict = {}\n",
    "    for key, value in countDict.items():\n",
    "        if i < 4:\n",
    "            fivePrimeDict[key] = value\n",
    "            i += 1\n",
    "        else:\n",
    "            threePrimeDict[key] = value\n",
    "    threeDrop = (min(threePrimeDict, key = lambda dictionaryKey: abs(threePrimeDict.get(dictionaryKey))))\n",
    "    fiveDrop = (min(fivePrimeDict, key = lambda dictionaryKey: abs(fivePrimeDict.get(dictionaryKey))))\n",
    "    Adi = df.drop(columns=['context', 'frequency', 'threePrimeA', 'threePrimeT', 'threePrimeC', 'threePrimeG', str(fiveDrop)])\n",
    "    Ezra = df.drop(columns=['context', 'frequency', 'fivePrimeA', 'fivePrimeT', 'fivePrimeC', 'fivePrimeG', str(threeDrop)])\n",
    "    X2 = sm.add_constant(Adi)\n",
    "    est = sm.OLS(ydf,X2).fit()\n",
    "    print(est.summary())\n",
    "    X3 = sm.add_constant(Ezra)\n",
    "    est = sm.OLS(ydf,X3).fit()\n",
    "    print(est.summary())"
   ]
  }
 ],
 "metadata": {
  "interpreter": {
   "hash": "916dbcbb3f70747c44a77c7bcd40155683ae19c65e1c03b4aa3499c5328201f1"
  },
  "kernelspec": {
   "display_name": "Python 3.8.10 64-bit",
   "name": "python3"
  },
  "language_info": {
   "codemirror_mode": {
    "name": "ipython",
    "version": 3
   },
   "file_extension": ".py",
   "mimetype": "text/x-python",
   "name": "python",
   "nbconvert_exporter": "python",
   "pygments_lexer": "ipython3",
   "version": "3.8.10"
  },
  "orig_nbformat": 4
 },
 "nbformat": 4,
 "nbformat_minor": 2
}
